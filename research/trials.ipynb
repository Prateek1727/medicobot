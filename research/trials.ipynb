{
 "cells": [
  {
   "cell_type": "code",
   "execution_count": 1,
   "id": "6d1dd547",
   "metadata": {},
   "outputs": [
    {
     "data": {
      "text/plain": [
       "'d:\\\\Healthbot\\\\medicobot\\\\research'"
      ]
     },
     "execution_count": 1,
     "metadata": {},
     "output_type": "execute_result"
    }
   ],
   "source": [
    "%pwd"
   ]
  },
  {
   "cell_type": "code",
   "execution_count": 2,
   "id": "e04a4a88",
   "metadata": {},
   "outputs": [
    {
     "name": "stderr",
     "output_type": "stream",
     "text": [
      "c:\\Users\\91787\\anaconda3\\envs\\medichatbot\\lib\\site-packages\\pinecone\\data\\index.py:1: TqdmWarning: IProgress not found. Please update jupyter and ipywidgets. See https://ipywidgets.readthedocs.io/en/stable/user_install.html\n",
      "  from tqdm.autonotebook import tqdm\n"
     ]
    }
   ],
   "source": [
    "import os\n",
    "from langchain.embeddings import HuggingFaceEmbeddings\n",
    "from pinecone import Pinecone\n",
    "from langchain_pinecone import PineconeVectorStore\n",
    "from dotenv import load_dotenv\n",
    "from langchain_groq import ChatGroq\n",
    "from langchain_core.output_parsers import StrOutputParser\n",
    "from langchain_core.prompts.prompt import PromptTemplate\n",
    "from loguru import logger\n",
    "\n",
    "load_dotenv()\n",
    "\n",
    "os.environ['GROQ_API_KEY'] = os.getenv(\"GROQ_API_KEY\")"
   ]
  },
  {
   "cell_type": "code",
   "execution_count": 3,
   "id": "42ee0107",
   "metadata": {},
   "outputs": [
    {
     "name": "stderr",
     "output_type": "stream",
     "text": [
      "C:\\Users\\91787\\AppData\\Local\\Temp\\ipykernel_19888\\3401734470.py:1: LangChainDeprecationWarning: The class `HuggingFaceEmbeddings` was deprecated in LangChain 0.2.2 and will be removed in 1.0. An updated version of the class exists in the :class:`~langchain-huggingface package and should be used instead. To use it run `pip install -U :class:`~langchain-huggingface` and import as `from :class:`~langchain_huggingface import HuggingFaceEmbeddings``.\n",
      "  embeddings = HuggingFaceEmbeddings(model_name=\"all-MiniLM-L6-v2\")\n"
     ]
    }
   ],
   "source": [
    "embeddings = HuggingFaceEmbeddings(model_name=\"all-MiniLM-L6-v2\")"
   ]
  },
  {
   "cell_type": "code",
   "execution_count": 4,
   "id": "11469adc",
   "metadata": {},
   "outputs": [],
   "source": [
    "PINECONE_API_KEY = os.environ.get('PINECONE_API_KEY')\n",
    "pc = Pinecone(api_key=PINECONE_API_KEY)\n",
    "index_name = \"medicalchatbot\"\n",
    "index = pc.Index(index_name)"
   ]
  },
  {
   "cell_type": "code",
   "execution_count": 5,
   "id": "7f2d6a3c",
   "metadata": {},
   "outputs": [],
   "source": [
    "vector_store = PineconeVectorStore(index=index, embedding=embeddings)"
   ]
  },
  {
   "cell_type": "code",
   "execution_count": 6,
   "id": "52e13719",
   "metadata": {},
   "outputs": [],
   "source": [
    "def search_db(user_query: str) -> list:\n",
    "    sim_docs =[]\n",
    "    result = vector_store.similarity_search_with_score(\n",
    "    user_query, k=3\n",
    "    )\n",
    "    for doc in result:\n",
    "        sim_docs.append(doc[0].page_content)\n",
    "    \n",
    "    return sim_docs    "
   ]
  },
  {
   "cell_type": "code",
   "execution_count": 7,
   "id": "4314a0ec",
   "metadata": {},
   "outputs": [],
   "source": [
    "search = search_db(user_query=\"What is candidiasis?\")"
   ]
  },
  {
   "cell_type": "code",
   "execution_count": 8,
   "id": "3f1ffd12",
   "metadata": {},
   "outputs": [
    {
     "data": {
      "text/plain": [
       "['GALE ENCYCLOPEDIA OF MEDICINE 2268\\nAntifungal drugs, systemic\\nGEM - 0001 to 0432 - A  10/22/03 1:42 PM  Page 268',\n",
       " 'Fungus—A member of a group of simple organ-\\nisms that are related to yeast and molds.\\nIncontinence—The inability to control the bladder\\nor bowel.\\nInflammation —Pain, redness, swelling, and heat\\nthat usually develop in response to injury or illness.\\ning or who plans to become pregnant should check with\\nher physician before using a topical antibiotic.\\nUnless a physician says to do so, do not use topical\\nantibiotics on children under two years of age.\\nSide effects',\n",
       " 'fungi. (Custom Medical Stock Photo. Reproduced by permission.)\\nGEM -0433 to 0624 - B  10/22/03 6:08 PM  Page 513']"
      ]
     },
     "execution_count": 8,
     "metadata": {},
     "output_type": "execute_result"
    }
   ],
   "source": [
    "search"
   ]
  },
  {
   "cell_type": "code",
   "execution_count": 9,
   "id": "29e8c4dc",
   "metadata": {},
   "outputs": [],
   "source": [
    "# ---------------------------- LLM --------------------------------------\n",
    "llm = ChatGroq(model_name=\"llama-3.3-70b-versatile\", temperature=0.5)"
   ]
  },
  {
   "cell_type": "code",
   "execution_count": 10,
   "id": "1b43feef",
   "metadata": {},
   "outputs": [],
   "source": [
    "def medicalbot_ai(user_query: str, doc_list: list) -> str:\n",
    "    template = \"\"\"\n",
    "    You are a medical consultant AI chatbot. Your role is to provide accurate and reliable answers to user questions based on the provided documents. Use the information from the `doc_list` to address the `user_query` thoroughly and correctly. Ensure that your response is:\n",
    "\n",
    "    - **Accurate:** Base your answers solely on the information in the provided documents.\n",
    "    - **Conversational:** Maintain a friendly and approachable tone.\n",
    "    - **Mature and Consultancy-Oriented:** Present information in a professional and trustworthy manner.\n",
    "\n",
    "    **Inputs:**\n",
    "    1. `user_query`: {user_query} The question posed by the user.\n",
    "    2. `doc_list`: {doc_list} A list of documents containing relevant information related to the user's question.\n",
    "\n",
    "    **Instructions:**\n",
    "    - Analyze the `user_query` and identify the key information needed to answer it.\n",
    "    - Review the `doc_list` to find relevant information that addresses the query.\n",
    "    - Construct a response that is clear, concise, and directly answers the user's question using the information from the documents.\n",
    "    - Avoid introducing information not present in the `doc_list`.\n",
    "    - If the `user_query` have nothing similar to what is in the `doc_list`, return document not found or something in an apologetic way, tell the user to ask for something related to the context.\n",
    "    - If the  `user_query` is an empty string, respond with \"Please provide a valid query.\".\n",
    "    - Maintain a tone that is both professional and empathetic, suitable for a consultancy setting.\n",
    "    \n",
    "    Return the answer as the only output. \n",
    "    Always make sure that you're returning the answer without any explanation. \n",
    "    The output should be the answer alone.\n",
    "    Always return this: \"Please provide a valid query.\" for empty query.\n",
    "    \"\"\"\n",
    "    question_prompt = PromptTemplate(input_variables=[\"user_query\", \"doc_list\"], template=template)\n",
    "    initiator_router = question_prompt | llm | StrOutputParser()\n",
    "    output = initiator_router.invoke({\"user_query\":user_query, \"doc_list\":doc_list})\n",
    "    return output"
   ]
  },
  {
   "cell_type": "code",
   "execution_count": 11,
   "id": "cd79b958",
   "metadata": {},
   "outputs": [],
   "source": [
    "answer_1 = medicalbot_ai(user_query=\"What is Candidiasis?\", doc_list=search)"
   ]
  },
  {
   "cell_type": "code",
   "execution_count": 12,
   "id": "fe4bc56a",
   "metadata": {},
   "outputs": [],
   "source": [
    "def medical_chatbot(user_query: str)-> str:\n",
    "    logger.info(\"Searching for similar Docs in the Vec DB\")\n",
    "    doc_list = search_db(user_query=user_query)\n",
    "    logger.info(\"Calling the medicalbot ai to get answer\")\n",
    "    answer = medicalbot_ai(user_query=user_query, doc_list=doc_list)\n",
    "    logger.info(\"Returning the Final Answer\")\n",
    "    return answer"
   ]
  },
  {
   "cell_type": "code",
   "execution_count": 13,
   "id": "6bbc2463",
   "metadata": {},
   "outputs": [],
   "source": [
    "question_1 = \"What is Candidiasis?\"\n",
    "question_2 = \"what is Carpal tunnel syndrome?\"\n",
    "question_3 = \"what is the treatment of Carpal tunnel syndrome?\"\n",
    "question_4 = \"What is the treatment of Candidiasis?\""
   ]
  },
  {
   "cell_type": "code",
   "execution_count": 14,
   "id": "52690fa7",
   "metadata": {},
   "outputs": [
    {
     "name": "stderr",
     "output_type": "stream",
     "text": [
      "\u001b[32m2025-05-19 23:49:51.039\u001b[0m | \u001b[1mINFO    \u001b[0m | \u001b[36m__main__\u001b[0m:\u001b[36mmedical_chatbot\u001b[0m:\u001b[36m2\u001b[0m - \u001b[1mSearching for similar Docs in the Vec DB\u001b[0m\n",
      "\u001b[32m2025-05-19 23:49:51.338\u001b[0m | \u001b[1mINFO    \u001b[0m | \u001b[36m__main__\u001b[0m:\u001b[36mmedical_chatbot\u001b[0m:\u001b[36m4\u001b[0m - \u001b[1mCalling the medicalbot ai to get answer\u001b[0m\n",
      "\u001b[32m2025-05-19 23:49:52.141\u001b[0m | \u001b[1mINFO    \u001b[0m | \u001b[36m__main__\u001b[0m:\u001b[36mmedical_chatbot\u001b[0m:\u001b[36m6\u001b[0m - \u001b[1mReturning the Final Answer\u001b[0m\n"
     ]
    },
    {
     "name": "stdout",
     "output_type": "stream",
     "text": [
      "Unfortunately, I couldn't find any direct information about Candidiasis in the provided documents. However, I can tell you that the documents do mention fungi and antifungal drugs, which might be related to Candidiasis. Candidiasis is often caused by a type of fungus called Candida. If you're looking for information on Candidiasis, I'd be happy to try and help you find some general information on the topic, but it's not specifically mentioned in the documents provided. If you have any other questions related to the context of the documents, such as antifungal drugs or fungi, I'd be happy to try and assist you.\n"
     ]
    }
   ],
   "source": [
    "answer_1 = medical_chatbot(user_query=question_1)\n",
    "print(answer_1)"
   ]
  },
  {
   "cell_type": "code",
   "execution_count": 15,
   "id": "761e0892",
   "metadata": {},
   "outputs": [
    {
     "name": "stderr",
     "output_type": "stream",
     "text": [
      "\u001b[32m2025-05-19 23:49:54.619\u001b[0m | \u001b[1mINFO    \u001b[0m | \u001b[36m__main__\u001b[0m:\u001b[36mmedical_chatbot\u001b[0m:\u001b[36m2\u001b[0m - \u001b[1mSearching for similar Docs in the Vec DB\u001b[0m\n",
      "\u001b[32m2025-05-19 23:49:54.985\u001b[0m | \u001b[1mINFO    \u001b[0m | \u001b[36m__main__\u001b[0m:\u001b[36mmedical_chatbot\u001b[0m:\u001b[36m4\u001b[0m - \u001b[1mCalling the medicalbot ai to get answer\u001b[0m\n",
      "\u001b[32m2025-05-19 23:49:55.282\u001b[0m | \u001b[1mINFO    \u001b[0m | \u001b[36m__main__\u001b[0m:\u001b[36mmedical_chatbot\u001b[0m:\u001b[36m6\u001b[0m - \u001b[1mReturning the Final Answer\u001b[0m\n"
     ]
    },
    {
     "name": "stdout",
     "output_type": "stream",
     "text": [
      "Carpal tunnel syndrome is a painful disorder that causes numbness or tingling in response to pressure on nerves around the wrist.\n"
     ]
    }
   ],
   "source": [
    "answer_2 = medical_chatbot(user_query=question_2)\n",
    "print(answer_2)"
   ]
  },
  {
   "cell_type": "code",
   "execution_count": 16,
   "id": "2fa70644",
   "metadata": {},
   "outputs": [
    {
     "name": "stderr",
     "output_type": "stream",
     "text": [
      "\u001b[32m2025-05-19 23:49:57.518\u001b[0m | \u001b[1mINFO    \u001b[0m | \u001b[36m__main__\u001b[0m:\u001b[36mmedical_chatbot\u001b[0m:\u001b[36m2\u001b[0m - \u001b[1mSearching for similar Docs in the Vec DB\u001b[0m\n",
      "\u001b[32m2025-05-19 23:49:57.866\u001b[0m | \u001b[1mINFO    \u001b[0m | \u001b[36m__main__\u001b[0m:\u001b[36mmedical_chatbot\u001b[0m:\u001b[36m4\u001b[0m - \u001b[1mCalling the medicalbot ai to get answer\u001b[0m\n",
      "\u001b[32m2025-05-19 23:49:58.282\u001b[0m | \u001b[1mINFO    \u001b[0m | \u001b[36m__main__\u001b[0m:\u001b[36mmedical_chatbot\u001b[0m:\u001b[36m6\u001b[0m - \u001b[1mReturning the Final Answer\u001b[0m\n"
     ]
    },
    {
     "name": "stdout",
     "output_type": "stream",
     "text": [
      "The provided documents do not contain information about the treatment of Carpal tunnel syndrome. I couldn't find any relevant information related to your query. Please consider asking a question related to arthritis, ataxia, or other topics mentioned in the documents.\n"
     ]
    }
   ],
   "source": [
    "answer_3 = medical_chatbot(user_query=question_3)\n",
    "print(answer_3)"
   ]
  },
  {
   "cell_type": "code",
   "execution_count": 17,
   "id": "ca5d29e0",
   "metadata": {},
   "outputs": [
    {
     "name": "stderr",
     "output_type": "stream",
     "text": [
      "\u001b[32m2025-05-19 23:50:00.917\u001b[0m | \u001b[1mINFO    \u001b[0m | \u001b[36m__main__\u001b[0m:\u001b[36mmedical_chatbot\u001b[0m:\u001b[36m2\u001b[0m - \u001b[1mSearching for similar Docs in the Vec DB\u001b[0m\n",
      "\u001b[32m2025-05-19 23:50:01.212\u001b[0m | \u001b[1mINFO    \u001b[0m | \u001b[36m__main__\u001b[0m:\u001b[36mmedical_chatbot\u001b[0m:\u001b[36m4\u001b[0m - \u001b[1mCalling the medicalbot ai to get answer\u001b[0m\n",
      "\u001b[32m2025-05-19 23:50:01.950\u001b[0m | \u001b[1mINFO    \u001b[0m | \u001b[36m__main__\u001b[0m:\u001b[36mmedical_chatbot\u001b[0m:\u001b[36m6\u001b[0m - \u001b[1mReturning the Final Answer\u001b[0m\n"
     ]
    },
    {
     "name": "stdout",
     "output_type": "stream",
     "text": [
      "The treatment of Candidiasis, also known as a fungal or yeast infection, can be approached in different ways. Alternative treatment focuses on creating an internal environment where the fungus cannot survive by eating a diet low in dairy products, sugars, and foods that contain yeast, and high in uncooked and unprocessed foods. Supplements of vitamins C, E, A-plus, and B complex, as well as Lactobacillus, may also be useful. For superficial skin infections, creams or ointments (topical antifungal drugs) are typically used. However, for systemic infections, yeast infections, or topical infections that do not clear up with creams or ointments, systemic antifungal drugs may be necessary.\n"
     ]
    }
   ],
   "source": [
    "answer_4 = medical_chatbot(user_query=question_4)\n",
    "print(answer_4)"
   ]
  },
  {
   "cell_type": "code",
   "execution_count": 18,
   "id": "ed2fe29c",
   "metadata": {},
   "outputs": [
    {
     "name": "stderr",
     "output_type": "stream",
     "text": [
      "\u001b[32m2025-05-19 23:50:04.847\u001b[0m | \u001b[1mINFO    \u001b[0m | \u001b[36m__main__\u001b[0m:\u001b[36mmedical_chatbot\u001b[0m:\u001b[36m2\u001b[0m - \u001b[1mSearching for similar Docs in the Vec DB\u001b[0m\n",
      "\u001b[32m2025-05-19 23:50:05.154\u001b[0m | \u001b[1mINFO    \u001b[0m | \u001b[36m__main__\u001b[0m:\u001b[36mmedical_chatbot\u001b[0m:\u001b[36m4\u001b[0m - \u001b[1mCalling the medicalbot ai to get answer\u001b[0m\n",
      "\u001b[32m2025-05-19 23:50:05.730\u001b[0m | \u001b[1mINFO    \u001b[0m | \u001b[36m__main__\u001b[0m:\u001b[36mmedical_chatbot\u001b[0m:\u001b[36m6\u001b[0m - \u001b[1mReturning the Final Answer\u001b[0m\n"
     ]
    },
    {
     "name": "stdout",
     "output_type": "stream",
     "text": [
      "Unfortunately, the provided documents do not contain information related to Deep Learning. The documents appear to be related to medical and neurological topics, but they do not mention Deep Learning. I apologize, but it seems that the documents do not have the necessary information to answer your question. Please consider asking a question related to the context of the provided documents, such as neurodegenerative diseases, brain structures, or medical imaging techniques.\n"
     ]
    }
   ],
   "source": [
    "test_5 = medical_chatbot(\"What is Deep Learning?\")\n",
    "print(test_5)"
   ]
  },
  {
   "cell_type": "code",
   "execution_count": 19,
   "id": "f56fee57",
   "metadata": {},
   "outputs": [
    {
     "name": "stderr",
     "output_type": "stream",
     "text": [
      "\u001b[32m2025-05-19 23:50:08.370\u001b[0m | \u001b[1mINFO    \u001b[0m | \u001b[36m__main__\u001b[0m:\u001b[36mmedical_chatbot\u001b[0m:\u001b[36m2\u001b[0m - \u001b[1mSearching for similar Docs in the Vec DB\u001b[0m\n",
      "\u001b[32m2025-05-19 23:50:08.721\u001b[0m | \u001b[1mINFO    \u001b[0m | \u001b[36m__main__\u001b[0m:\u001b[36mmedical_chatbot\u001b[0m:\u001b[36m4\u001b[0m - \u001b[1mCalling the medicalbot ai to get answer\u001b[0m\n",
      "\u001b[32m2025-05-19 23:50:08.969\u001b[0m | \u001b[1mINFO    \u001b[0m | \u001b[36m__main__\u001b[0m:\u001b[36mmedical_chatbot\u001b[0m:\u001b[36m6\u001b[0m - \u001b[1mReturning the Final Answer\u001b[0m\n"
     ]
    },
    {
     "name": "stdout",
     "output_type": "stream",
     "text": [
      "Please provide a valid query.\n"
     ]
    }
   ],
   "source": [
    "test_5 = medical_chatbot(\"\")\n",
    "print(test_5)"
   ]
  }
 ],
 "metadata": {
  "kernelspec": {
   "display_name": "medichatbot",
   "language": "python",
   "name": "python3"
  },
  "language_info": {
   "codemirror_mode": {
    "name": "ipython",
    "version": 3
   },
   "file_extension": ".py",
   "mimetype": "text/x-python",
   "name": "python",
   "nbconvert_exporter": "python",
   "pygments_lexer": "ipython3",
   "version": "3.10.16"
  }
 },
 "nbformat": 4,
 "nbformat_minor": 5
}
